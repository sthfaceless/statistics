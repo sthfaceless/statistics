{
 "cells": [
  {
   "cell_type": "code",
   "execution_count": 10,
   "metadata": {
    "collapsed": true
   },
   "outputs": [],
   "source": [
    "import matplotlib.pyplot as plt\n",
    "import numpy as np\n",
    "from scipy.special import gammaincinv"
   ]
  },
  {
   "cell_type": "code",
   "execution_count": 11,
   "outputs": [],
   "source": [
    "a = np.array([\n",
    "    [20, 13, 18],\n",
    "    [23, 20, 26]\n",
    "])\n",
    "v = len(a)\n",
    "h = len(a[0])"
   ],
   "metadata": {
    "collapsed": false,
    "pycharm": {
     "name": "#%% Data\n"
    }
   }
  },
  {
   "cell_type": "code",
   "execution_count": 12,
   "outputs": [
    {
     "name": "stdout",
     "output_type": "stream",
     "text": [
      "\n",
      "    X^2 criteria is: 0.4590243119952276\n",
      "    df: 2\n",
      "    for significance level 0.01 hypothesa is True [9.21034037197618, ...)\n",
      "\n"
     ]
    }
   ],
   "source": [
    "total = a.sum()\n",
    "cnt_v = a.sum(axis=0)\n",
    "cnt_h = a.sum(axis=1)\n",
    "\n",
    "x_2 = 0\n",
    "for i in range(v):\n",
    "    for j in range(h):\n",
    "        np = cnt_v[j] * cnt_h[i] / total\n",
    "        x_2 += (a[i][j] - np) ** 2 / np\n",
    "\n",
    "#df\n",
    "r = (v-1) * (h-1)\n",
    "\n",
    "p = 0.01\n",
    "critical = gammaincinv(r/2, 1-p) * 2\n",
    "\n",
    "info = f\"\"\"\n",
    "    X^2 criteria is: {x_2}\n",
    "    df: {r}\n",
    "    for significance level {p} hypothesa is {x_2 < critical} [{critical}, ...)\n",
    "\"\"\"\n",
    "\n",
    "print(info)"
   ],
   "metadata": {
    "collapsed": false,
    "pycharm": {
     "name": "#%% Count criteria\n"
    }
   }
  }
 ],
 "metadata": {
  "kernelspec": {
   "display_name": "Python 3",
   "language": "python",
   "name": "python3"
  },
  "language_info": {
   "codemirror_mode": {
    "name": "ipython",
    "version": 2
   },
   "file_extension": ".py",
   "mimetype": "text/x-python",
   "name": "python",
   "nbconvert_exporter": "python",
   "pygments_lexer": "ipython2",
   "version": "2.7.6"
  }
 },
 "nbformat": 4,
 "nbformat_minor": 0
}