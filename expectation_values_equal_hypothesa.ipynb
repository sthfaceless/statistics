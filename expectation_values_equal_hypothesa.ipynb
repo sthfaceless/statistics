{
 "cells": [
  {
   "cell_type": "code",
   "execution_count": 70,
   "outputs": [],
   "source": [
    "import numpy as np\n",
    "from scipy.special import erfinv"
   ],
   "metadata": {
    "collapsed": false,
    "pycharm": {
     "name": "#%%\n"
    }
   }
  },
  {
   "cell_type": "code",
   "execution_count": 71,
   "outputs": [],
   "source": [
    "values1 = np.array([-20, -10, 0, 10, 20])\n",
    "count1 = np.array([13, 17, 36, 25, 9])\n",
    "\n",
    "values2 = np.array([-17, -7, 3, 13, 23])\n",
    "count2 = np.array([15, 39, 90, 43, 13])\n",
    "\n",
    "p = 0.05"
   ],
   "metadata": {
    "collapsed": false,
    "pycharm": {
     "name": "#%% Data\n"
    }
   }
  },
  {
   "cell_type": "code",
   "execution_count": 72,
   "outputs": [],
   "source": [
    "total1 = count1.sum()\n",
    "total2 = count2.sum()\n",
    "\n",
    "u1 = (values1 * count1).sum() / total1\n",
    "u2 = (values2 * count2).sum() / total2\n",
    "\n",
    "sigma_1 = (((values1-u1) ** 2)*count1).sum() / (total1-1)\n",
    "sigma_2 = (((values2-u2) ** 2)*count2).sum() / (total2-1)\n",
    "\n",
    "tp = erfinv(1-p) * (2 ** 0.5)\n",
    "eps = tp * (sigma_1/total1 + sigma_2/total2) ** 0.5"
   ],
   "metadata": {
    "collapsed": false,
    "pycharm": {
     "name": "#%% prepare\n"
    }
   }
  },
  {
   "cell_type": "code",
   "execution_count": 73,
   "outputs": [
    {
     "name": "stdout",
     "output_type": "stream",
     "text": [
      "\n",
      "    E[X1] = 0.0\n",
      "    E[X2] = 3.0\n",
      "\n",
      "    D[X1] = 131.31313131313132\n",
      "    D[X2] = 97.48743718592965\n",
      "\n",
      "    |u1 - u2| = 3.0\n",
      "\n",
      "    For significance level 0.05:\n",
      "    eps = 2.6299828408150714\n",
      "    hypothesa is False\n",
      "\n"
     ]
    }
   ],
   "source": [
    "info = f\"\"\"\n",
    "    E[X1] = {u1}\n",
    "    E[X2] = {u2}\n",
    "\n",
    "    D[X1] = {sigma_1}\n",
    "    D[X2] = {sigma_2}\n",
    "\n",
    "    |u1 - u2| = {abs(u1-u2)}\n",
    "\n",
    "    For significance level {p}:\n",
    "    eps = {eps}\n",
    "    hypothesa is {abs(u1-u2) <= eps}\n",
    "\"\"\"\n",
    "print(info)"
   ],
   "metadata": {
    "collapsed": false,
    "pycharm": {
     "name": "#%% summarize\n"
    }
   }
  }
 ],
 "metadata": {
  "kernelspec": {
   "display_name": "Python 3",
   "language": "python",
   "name": "python3"
  },
  "language_info": {
   "codemirror_mode": {
    "name": "ipython",
    "version": 2
   },
   "file_extension": ".py",
   "mimetype": "text/x-python",
   "name": "python",
   "nbconvert_exporter": "python",
   "pygments_lexer": "ipython2",
   "version": "2.7.6"
  }
 },
 "nbformat": 4,
 "nbformat_minor": 0
}