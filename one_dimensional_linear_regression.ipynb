{
 "cells": [
  {
   "cell_type": "code",
   "execution_count": 115,
   "metadata": {
    "collapsed": true
   },
   "outputs": [],
   "source": [
    "import numpy as np\n",
    "import matplotlib.pyplot as plt"
   ]
  },
  {
   "cell_type": "code",
   "execution_count": 116,
   "outputs": [],
   "source": [
    "X = np.array([1, 3, 5, 7, 9, 11])\n",
    "w_x = 1.0\n",
    "Y = np.array([9, 7, 5, 3, 1])\n",
    "w_y = 2.0\n",
    "count = np.array([\n",
    "    [4, 0, 0, 0, 0, 0],\n",
    "    [2, 3, 1, 1, 0, 0],\n",
    "    [1, 1, 4, 2, 1, 0],\n",
    "    [0, 2, 3, 3, 3, 3],\n",
    "    [0, 0, 0, 1, 2, 3],\n",
    "])"
   ],
   "metadata": {
    "collapsed": false,
    "pycharm": {
     "name": "#%% Data\n"
    }
   }
  },
  {
   "cell_type": "code",
   "execution_count": 117,
   "outputs": [],
   "source": [
    "n = len(X)\n",
    "m = len(Y)\n",
    "\n",
    "x_count = count.sum(axis=0)\n",
    "y_count = count.sum(axis=1)\n",
    "total = x_count.sum()\n",
    "\n",
    "x_sum = (X * x_count).sum()\n",
    "x2_sum = (X ** 2 * x_count).sum()\n",
    "y_sum = (Y * y_count).sum()\n",
    "xy_sum = (Y.reshape(m, 1) @ X.reshape(1, n) * count).sum()\n",
    "\n",
    "p = (total * xy_sum - x_sum*y_sum) / (total * x2_sum - x_sum ** 2)\n",
    "b = (x2_sum * y_sum - x_sum * xy_sum) / (total * x2_sum - x_sum ** 2)\n",
    "\n",
    "u_x = (X * x_count).sum() / total\n",
    "u_y = (Y * y_count).sum() / total\n",
    "u_y_from_x = (Y.reshape(1,m) @ count / x_count)\n",
    "d_x = ((X-u_x) ** 2 * x_count).sum() / (total-1)\n",
    "sigma_x = d_x ** 0.5\n",
    "d_y = ((Y-u_y) ** 2 * y_count).sum() / (total-1)\n",
    "sigma_y = d_y ** 0.5\n",
    "\n",
    "r_xy = p * sigma_x / sigma_y\n",
    "err = d_y * (1-r_xy**2)"
   ],
   "metadata": {
    "collapsed": false,
    "pycharm": {
     "name": "#%% Calculation\n"
    }
   }
  },
  {
   "cell_type": "code",
   "execution_count": 118,
   "outputs": [
    {
     "data": {
      "text/plain": "[<matplotlib.lines.Line2D at 0x7f68a920ff70>]"
     },
     "execution_count": 118,
     "metadata": {},
     "output_type": "execute_result"
    },
    {
     "data": {
      "text/plain": "<Figure size 576x396 with 1 Axes>",
      "image/png": "[encoded data removed]"
     },
     "metadata": {},
     "output_type": "display_data"
    }
   ],
   "source": [
    "plt.style.use('seaborn')\n",
    "fig, ax = plt.subplots()\n",
    "ax.plot(X, u_y_from_x.flatten('C'))\n",
    "ax.plot([X[0], X[-1]], [X[0] * p + b, X[-1] * p + b])"
   ],
   "metadata": {
    "collapsed": false,
    "pycharm": {
     "name": "#%% visualize\n"
    }
   }
  },
  {
   "cell_type": "code",
   "execution_count": 119,
   "outputs": [
    {
     "name": "stdout",
     "output_type": "stream",
     "text": [
      "\n",
      "    regression line: Y = -0.549X + 7.66\n",
      "    E[Y|X] = [7.857 5.333 4.5   3.857 2.667 2.   ]\n",
      "\n",
      "    E[X] = 5.85\n",
      "    E[Y] = 4.45\n",
      "\n",
      "    D[X] = 11.464\n",
      "    D[Y] = 5.946\n",
      "\n",
      "    Rxy  = -0.762\n",
      "    D[Y|X] = Error = 2.495\n",
      "\n"
     ]
    }
   ],
   "source": [
    "info = f\"\"\"\n",
    "    regression line: Y = {round(p, 3)}X + {round(b, 3)}\n",
    "    E[Y|X] = {u_y_from_x.flatten('C').round(3)}\n",
    "\n",
    "    E[X] = {round(u_x, 3)}\n",
    "    E[Y] = {round(u_y, 3)}\n",
    "\n",
    "    D[X] = {round(d_x, 3)}\n",
    "    D[Y] = {round(d_y, 3)}\n",
    "\n",
    "    Rxy  = {round(r_xy, 3)}\n",
    "    D[Y|X] = Error = {round(err, 3)}\n",
    "\"\"\"\n",
    "print(info)"
   ],
   "metadata": {
    "collapsed": false,
    "pycharm": {
     "name": "#%% summarize\n"
    }
   }
  }
 ],
 "metadata": {
  "kernelspec": {
   "display_name": "Python 3",
   "language": "python",
   "name": "python3"
  },
  "language_info": {
   "codemirror_mode": {
    "name": "ipython",
    "version": 2
   },
   "file_extension": ".py",
   "mimetype": "text/x-python",
   "name": "python",
   "nbconvert_exporter": "python",
   "pygments_lexer": "ipython2",
   "version": "2.7.6"
  }
 },
 "nbformat": 4,
 "nbformat_minor": 0
}