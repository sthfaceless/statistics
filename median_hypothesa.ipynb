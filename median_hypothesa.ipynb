{
 "cells": [
  {
   "cell_type": "code",
   "execution_count": 116,
   "metadata": {
    "collapsed": true
   },
   "outputs": [],
   "source": [
    "import numpy as np\n",
    "import matplotlib.pyplot as plt\n",
    "from scipy.special import comb\n",
    "from scipy.special import erfinv\n",
    "from bisect import bisect_right"
   ]
  },
  {
   "cell_type": "code",
   "execution_count": 117,
   "outputs": [],
   "source": [
    "values = np.array([3.05, 2.9, 3.4, 2.3, 4.7, 3.27, 2.35, 1.54, 4.1, 2.8, 3.9, 1.8])"
   ],
   "metadata": {
    "collapsed": false,
    "pycharm": {
     "name": "#%% Data\n"
    }
   }
  },
  {
   "cell_type": "code",
   "execution_count": 118,
   "outputs": [],
   "source": [
    "values.sort()\n",
    "n = len(values)\n",
    "\n",
    "#Zero hupothesa\n",
    "m0 = 2.31\n",
    "b = 0.05\n",
    "\n",
    "#m1 < m0 or m1 > m0\n",
    "if n < 100:\n",
    "    less_critical = 0\n",
    "    greater_critical = n\n",
    "    add = 0\n",
    "    curr = 0\n",
    "    while add + curr <= b:\n",
    "        curr += add\n",
    "        add = comb(n, less_critical) * (1/2) ** n\n",
    "        less_critical += 1\n",
    "        greater_critical -= 1\n",
    "    less_critical -= 2\n",
    "    greater_critical += 2\n",
    "else:\n",
    "    ty = erfinv((0.5-b) * 2) * (2 ** 0.5)\n",
    "    less_critical = n/2 - 1/2 * ty * (n ** 0.5)\n",
    "    greater_critical = n/2 + 1/2 * ty * (n ** 0.5)\n",
    "\n",
    "less = bisect_right(values, m0)"
   ],
   "metadata": {
    "collapsed": false,
    "pycharm": {
     "name": "#%% prepare\n"
    }
   }
  },
  {
   "cell_type": "code",
   "execution_count": 119,
   "outputs": [
    {
     "data": {
      "text/plain": "<BarContainer object of 2 artists>"
     },
     "execution_count": 119,
     "metadata": {},
     "output_type": "execute_result"
    },
    {
     "data": {
      "text/plain": "<Figure size 576x396 with 1 Axes>",
      "image/png": "[encoded data removed]"
     },
     "metadata": {},
     "output_type": "display_data"
    }
   ],
   "source": [
    "plt.style.use('seaborn')\n",
    "w = 1.0\n",
    "\n",
    "fig, ax = plt.subplots()\n",
    "ax.plot(less*w, m0,'ro')\n",
    "\n",
    "ax.bar(np.arange(0, less_critical+1, 1), values[0:less_critical+1], w, color=(0.8, 0.8, 0.8, 0.8))\n",
    "ax.bar(np.arange(less_critical+1, greater_critical, 1), values[less_critical+1:greater_critical], w, color=(1.0, 1.0, 1.0, 1.0))\n",
    "ax.bar(np.arange(greater_critical, n, 1), values[greater_critical:n], w, color=(0.8, 0.8, 0.8, 0.8))"
   ],
   "metadata": {
    "collapsed": false,
    "pycharm": {
     "name": "#%% Visualisation\n"
    }
   }
  },
  {
   "cell_type": "code",
   "execution_count": 120,
   "outputs": [
    {
     "name": "stdout",
     "output_type": "stream",
     "text": [
      "\n",
      "    Zero hypothesa is True\n",
      "\n",
      "    left criteria: [0, 2]\n",
      "    right criteria: [10, 12]\n",
      "\n"
     ]
    }
   ],
   "source": [
    "info = f\"\"\"\n",
    "    Zero hypothesa is { less_critical < less < greater_critical }\n",
    "\n",
    "    left criteria: [0, {less_critical}]\n",
    "    right criteria: [{greater_critical}, {n}]\n",
    "\"\"\"\n",
    "print(info)"
   ],
   "metadata": {
    "collapsed": false,
    "pycharm": {
     "name": "#%% summarize\n"
    }
   }
  }
 ],
 "metadata": {
  "kernelspec": {
   "display_name": "Python 3",
   "language": "python",
   "name": "python3"
  },
  "language_info": {
   "codemirror_mode": {
    "name": "ipython",
    "version": 2
   },
   "file_extension": ".py",
   "mimetype": "text/x-python",
   "name": "python",
   "nbconvert_exporter": "python",
   "pygments_lexer": "ipython2",
   "version": "2.7.6"
  }
 },
 "nbformat": 4,
 "nbformat_minor": 0
}